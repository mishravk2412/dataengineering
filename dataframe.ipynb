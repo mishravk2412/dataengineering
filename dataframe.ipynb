{
  "nbformat": 4,
  "nbformat_minor": 0,
  "metadata": {
    "colab": {
      "name": "dataframe.ipynb",
      "provenance": [],
      "authorship_tag": "ABX9TyMoU4ZEYL9+8lTLJj11Rv8Q",
      "include_colab_link": true
    },
    "kernelspec": {
      "name": "python3",
      "display_name": "Python 3"
    },
    "language_info": {
      "name": "python"
    }
  },
  "cells": [
    {
      "cell_type": "markdown",
      "metadata": {
        "id": "view-in-github",
        "colab_type": "text"
      },
      "source": [
        "<a href=\"https://colab.research.google.com/github/mishravk2412/dataengineering/blob/main/dataframe.ipynb\" target=\"_parent\"><img src=\"https://colab.research.google.com/assets/colab-badge.svg\" alt=\"Open In Colab\"/></a>"
      ]
    },
    {
      "cell_type": "code",
      "execution_count": 1,
      "metadata": {
        "id": "Czoi8KDhpla6"
      },
      "outputs": [],
      "source": [
        "!apt-get install openjdk-8-jdk-headless -qq > /dev/null\n",
        "!wget -q https://archive.apache.org/dist/spark/spark-3.1.2/spark-3.1.2-bin-hadoop3.2.tgz\n",
        "!tar xf spark-3.1.2-bin-hadoop3.2.tgz\n",
        "import os\n",
        "os.environ[\"JAVA_HOME\"] = \"/usr/lib/jvm/java-8-openjdk-amd64\"\n",
        "os.environ[\"SPARK_HOME\"] = \"spark-3.1.2-bin-hadoop3.2\"\n",
        "!pip install -q findspark\n",
        "import findspark\n",
        "findspark.init()\n",
        "from pyspark.sql import SparkSession\n"
      ]
    },
    {
      "cell_type": "code",
      "source": [
        "spark = SparkSession.builder.appName(\"Spark dataframe tutorial\").getOrCreate()"
      ],
      "metadata": {
        "id": "GzNxRT4op6ZG"
      },
      "execution_count": 3,
      "outputs": []
    },
    {
      "cell_type": "code",
      "source": [
        "#df = spark.read.option(\"inferSchema\", True).option(\"header\", True).csv(\"/content/StudentData.csv\")\n",
        "df = spark.read.options(inferSchema='True', header='True', delimiter=',').csv(\"/content/StudentData.csv\")\n",
        "df.printSchema()"
      ],
      "metadata": {
        "id": "ocoj5viZq3Py"
      },
      "execution_count": null,
      "outputs": []
    },
    {
      "cell_type": "code",
      "source": [
        "df.show()"
      ],
      "metadata": {
        "id": "S7qMyjAurXyZ"
      },
      "execution_count": null,
      "outputs": []
    },
    {
      "cell_type": "code",
      "source": [
        "from pyspark.sql.types import StructType, StructField, StringType, IntegerType\n",
        "\n",
        "schema = StructType([\n",
        "                     StructField(\"age\",IntegerType(),True),\n",
        "                     StructField(\"gender\",StringType(),True),\n",
        "                     StructField(\"name\",StringType(),True),\n",
        "                     StructField(\"course\",StringType(),True),\n",
        "                     StructField(\"roll\",StringType(),True),\n",
        "                     StructField(\"marks\",IntegerType(),True),\n",
        "                     StructField(\"email\",StringType(),True)\n",
        "])\n",
        "\n",
        "df = spark.read.options(header='True', delimiter=',').schema(schema).csv(\"/content/StudentData.csv\")\n",
        "df.printSchema()"
      ],
      "metadata": {
        "id": "T0ON6YWb6gov"
      },
      "execution_count": null,
      "outputs": []
    },
    {
      "cell_type": "code",
      "source": [
        "#df.select(\"gender\",\"name\").show()\n",
        "df.select(df.name, df.gender, df.email).show()"
      ],
      "metadata": {
        "id": "XHfIEO2g_9i0"
      },
      "execution_count": null,
      "outputs": []
    },
    {
      "cell_type": "code",
      "source": [
        "from pyspark.sql.functions import col,lit\n",
        "df.select(col(\"name\"),col(\"roll\")).show()"
      ],
      "metadata": {
        "id": "cBaeyXgoAvTW"
      },
      "execution_count": null,
      "outputs": []
    },
    {
      "cell_type": "code",
      "source": [
        "#df.columns[:3]\n",
        "df.select(df.columns[:3]).show()"
      ],
      "metadata": {
        "id": "bCjz9prBB-dJ"
      },
      "execution_count": null,
      "outputs": []
    },
    {
      "cell_type": "code",
      "source": [
        "#withColumn Usage\n",
        "df2 = df.withColumn(\"roll\",col(\"roll\").cast(\"Integer\"))\n",
        "#df2.printSchema()\n",
        "df3 = df.withColumn(\"marks\",col(\"marks\") + 10)\n",
        "df3.show()\n",
        "#df.show()\n",
        "\n",
        "df4 = df.withColumn(\"aggregated marks\", col(\"marks\") -10)\n",
        "df4.show()\n",
        "\n",
        "df5 = df.withColumn(\"Country\",lit(\"USA\"))\n",
        "df5.show()\n",
        "\n",
        "df6 = df.withColumn(\"marks\", col(\"marks\") - 10).withColumn(\"updated marks\", col(\"marks\") + 20).withColumn(\"Country\", lit(\"USA\"))\n",
        "df6.show()"
      ],
      "metadata": {
        "id": "fRNoxL5PDTzj"
      },
      "execution_count": null,
      "outputs": []
    }
  ]
}