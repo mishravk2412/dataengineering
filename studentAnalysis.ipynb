{
  "nbformat": 4,
  "nbformat_minor": 0,
  "metadata": {
    "colab": {
      "name": "studentAnalysis.ipynb",
      "provenance": [],
      "authorship_tag": "ABX9TyPhces6NJ4Dplw2JubU4CrK",
      "include_colab_link": true
    },
    "kernelspec": {
      "name": "python3",
      "display_name": "Python 3"
    },
    "language_info": {
      "name": "python"
    }
  },
  "cells": [
    {
      "cell_type": "markdown",
      "metadata": {
        "id": "view-in-github",
        "colab_type": "text"
      },
      "source": [
        "<a href=\"https://colab.research.google.com/github/mishravk2412/dataengineering/blob/main/studentAnalysis.ipynb\" target=\"_parent\"><img src=\"https://colab.research.google.com/assets/colab-badge.svg\" alt=\"Open In Colab\"/></a>"
      ]
    },
    {
      "cell_type": "code",
      "execution_count": 2,
      "metadata": {
        "id": "J6VjjBTKJ8yF"
      },
      "outputs": [],
      "source": [
        "!apt-get install openjdk-8-jdk-headless -qq > /dev/null\n",
        "!wget -q https://archive.apache.org/dist/spark/spark-3.1.2/spark-3.1.2-bin-hadoop3.2.tgz\n",
        "!tar xf spark-3.1.2-bin-hadoop3.2.tgz\n",
        "import os\n",
        "os.environ[\"JAVA_HOME\"] = \"/usr/lib/jvm/java-8-openjdk-amd64\"\n",
        "os.environ[\"SPARK_HOME\"] = \"spark-3.1.2-bin-hadoop3.2\"\n",
        "!pip install -q findspark\n",
        "import findspark\n",
        "findspark.init()\n",
        "from pyspark import SparkConf, SparkContext\n"
      ]
    },
    {
      "cell_type": "code",
      "source": [
        "conf = SparkConf().setAppName(\"student analysis\")\n",
        "sc = SparkContext.getOrCreate(conf=conf)\n"
      ],
      "metadata": {
        "id": "goIcpMH4LMn-"
      },
      "execution_count": 4,
      "outputs": []
    },
    {
      "cell_type": "code",
      "source": [
        "text = sc.textFile(\"/content/StudentData.csv\")\n",
        "headers = text.first()\n",
        "rdd = text.filter(lambda x : x != headers)"
      ],
      "metadata": {
        "id": "oUxn7oSXLlH7"
      },
      "execution_count": 40,
      "outputs": []
    },
    {
      "cell_type": "code",
      "source": [
        "#number of students\n",
        "rdd1 = rdd.map(lambda x : (x.split(\",\")[4]))\n",
        "rddDistinct = rdd1.distinct()\n",
        "numberOfStudents = rddDistinct.count()\n",
        "print(\"Number of Students is \" + str(numberOfStudents))"
      ],
      "metadata": {
        "colab": {
          "base_uri": "https://localhost:8080/"
        },
        "id": "2b_ELlBcL4-P",
        "outputId": "a7d20109-242a-4333-bf0b-7939f06f0160"
      },
      "execution_count": 42,
      "outputs": [
        {
          "output_type": "stream",
          "name": "stdout",
          "text": [
            "Number of Students is 1000\n"
          ]
        }
      ]
    },
    {
      "cell_type": "code",
      "source": [
        "#Total marks of female and Male students.\n",
        "rdd1 = rdd.map(lambda x : (x.split(\",\")[1],int(x.split(\",\")[5])))\n",
        "rdd2 = rdd1.reduceByKey(lambda x,y: x + y)\n",
        "print(\"total marks by female and male\")\n",
        "rdd2.collect()"
      ],
      "metadata": {
        "colab": {
          "base_uri": "https://localhost:8080/"
        },
        "id": "maS4WJxKUYO9",
        "outputId": "ebcc021e-9d59-452e-df74-b21b374be92d"
      },
      "execution_count": 48,
      "outputs": [
        {
          "output_type": "stream",
          "name": "stdout",
          "text": [
            "total marks by female and male\n"
          ]
        },
        {
          "output_type": "execute_result",
          "data": {
            "text/plain": [
              "[('Female', 29636), ('Male', 30461)]"
            ]
          },
          "metadata": {},
          "execution_count": 48
        }
      ]
    },
    {
      "cell_type": "code",
      "source": [
        ""
      ],
      "metadata": {
        "id": "bV-i6MiwRodb"
      },
      "execution_count": null,
      "outputs": []
    },
    {
      "cell_type": "code",
      "source": [
        "#Total number of students passed or failed.\n",
        "rdd3 = rdd.map(lambda x : (x.split(\",\")))\n",
        "passed = rdd3.filter(lambda x: int(x[5])>50).count()\n",
        "failed = rdd3.filter(lambda x: int(x[5])<=50).count()\n",
        "print(\"passed students and failed students:\")\n",
        "print(passed, failed)\n"
      ],
      "metadata": {
        "colab": {
          "base_uri": "https://localhost:8080/"
        },
        "id": "S28UOJOIWGCb",
        "outputId": "e904827a-96df-4a23-e5d3-ff3caad33c64"
      },
      "execution_count": 59,
      "outputs": [
        {
          "output_type": "stream",
          "name": "stdout",
          "text": [
            "passed students and failed students:\n",
            "630 370\n"
          ]
        }
      ]
    },
    {
      "cell_type": "code",
      "source": [
        "#Total number of enrolments per course.\n",
        "rdd4 = rdd3.map(lambda x: (x[3],1))\n",
        "rdd5 = rdd4.reduceByKey(lambda x,y : x + y)\n",
        "print(\"Total number of enrolments per course.\")\n",
        "rdd5.collect()"
      ],
      "metadata": {
        "id": "0FCuuj4wZtUk"
      },
      "execution_count": null,
      "outputs": []
    },
    {
      "cell_type": "code",
      "source": [
        ""
      ],
      "metadata": {
        "id": "u47f2OrldXD5"
      },
      "execution_count": null,
      "outputs": []
    }
  ]
}