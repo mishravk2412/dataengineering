{
  "nbformat": 4,
  "nbformat_minor": 0,
  "metadata": {
    "colab": {
      "name": "pysparktest.ipynb",
      "provenance": [],
      "toc_visible": true,
      "authorship_tag": "ABX9TyMIyrHCNnu30dCnKrKiJITq",
      "include_colab_link": true
    },
    "kernelspec": {
      "name": "python3",
      "display_name": "Python 3"
    },
    "language_info": {
      "name": "python"
    }
  },
  "cells": [
    {
      "cell_type": "markdown",
      "metadata": {
        "id": "view-in-github",
        "colab_type": "text"
      },
      "source": [
        "<a href=\"https://colab.research.google.com/github/mishravk2412/dataengineering/blob/main/pysparktest.ipynb\" target=\"_parent\"><img src=\"https://colab.research.google.com/assets/colab-badge.svg\" alt=\"Open In Colab\"/></a>"
      ]
    },
    {
      "cell_type": "code",
      "execution_count": null,
      "metadata": {
        "id": "WWptg_X_pVhg"
      },
      "outputs": [],
      "source": [
        "cat sample_data/california_housing_train.csv"
      ]
    },
    {
      "cell_type": "code",
      "source": [
        "!apt-get install openjdk-8-jdk-headless -qq > /dev/null"
      ],
      "metadata": {
        "id": "w3mngul3sTcW"
      },
      "execution_count": 7,
      "outputs": []
    },
    {
      "cell_type": "code",
      "source": [
        "!wget -q https://www-us.apache.org/dist/spark/spark-3.1.2/spark-3.1.2-bin-hadoop2.7.tgz"
      ],
      "metadata": {
        "id": "AbzRuLHHtUCc"
      },
      "execution_count": 8,
      "outputs": []
    },
    {
      "cell_type": "code",
      "source": [
        "!wget -q https://archive.apache.org/dist/spark/spark-3.1.2/spark-3.1.2-bin-hadoop3.2.tgz\n",
        "!tar xf spark-3.1.2-bin-hadoop3.2.tgz"
      ],
      "metadata": {
        "id": "L4jx45FRtWGs"
      },
      "execution_count": 17,
      "outputs": []
    },
    {
      "cell_type": "code",
      "source": [
        "ls -ltrh"
      ],
      "metadata": {
        "colab": {
          "base_uri": "https://localhost:8080/"
        },
        "id": "paZMRVATutvL",
        "outputId": "46ae8ad4-ff08-40e4-8e84-73e06c98f708"
      },
      "execution_count": 18,
      "outputs": [
        {
          "output_type": "stream",
          "name": "stdout",
          "text": [
            "total 437M\n",
            "drwxr-xr-x 13 1000 1000 4.0K May 24  2021 \u001b[0m\u001b[01;34mspark-3.1.2-bin-hadoop3.2\u001b[0m/\n",
            "-rw-r--r--  1 root root 219M May 24  2021 spark-3.1.2-bin-hadoop3.2.tgz.1\n",
            "-rw-r--r--  1 root root 219M May 24  2021 spark-3.1.2-bin-hadoop3.2.tgz\n",
            "drwxr-xr-x  1 root root 4.0K Jan  7 14:33 \u001b[01;34msample_data\u001b[0m/\n"
          ]
        }
      ]
    },
    {
      "cell_type": "code",
      "source": [
        "import os\n",
        "os.environ[\"JAVA_HOME\"] = \"/usr/lib/jvm/java-8-openjdk-amd64\"\n",
        "os.environ[\"SPARK_HOME\"] = \"spark-3.1.2-bin-hadoop3.2\""
      ],
      "metadata": {
        "id": "04CWDPUdukxY"
      },
      "execution_count": 19,
      "outputs": []
    },
    {
      "cell_type": "code",
      "source": [
        "!pip install -q findspark"
      ],
      "metadata": {
        "id": "dokEyYkKu6MB"
      },
      "execution_count": 20,
      "outputs": []
    },
    {
      "cell_type": "code",
      "source": [
        "import findspark"
      ],
      "metadata": {
        "id": "kFiYpPhKu9US"
      },
      "execution_count": 21,
      "outputs": []
    },
    {
      "cell_type": "code",
      "source": [
        "findspark.init()"
      ],
      "metadata": {
        "id": "99rR0-z6vBH7"
      },
      "execution_count": 22,
      "outputs": []
    },
    {
      "cell_type": "code",
      "source": [
        "from pyspark import SparkConf, SparkContext"
      ],
      "metadata": {
        "id": "icNPZRjivF4Z"
      },
      "execution_count": 23,
      "outputs": []
    },
    {
      "cell_type": "code",
      "source": [
        "conf = SparkConf().setAppName(\"Read file\")"
      ],
      "metadata": {
        "id": "HW9d10SpvPam"
      },
      "execution_count": 24,
      "outputs": []
    },
    {
      "cell_type": "code",
      "source": [
        "sc = SparkContext.getOrCreate(conf=conf)"
      ],
      "metadata": {
        "id": "9rpwDIdxwRxx"
      },
      "execution_count": 25,
      "outputs": []
    },
    {
      "cell_type": "code",
      "source": [
        "text = sc.textFile(\"sample_data/california_housing_train.csv\")"
      ],
      "metadata": {
        "id": "E_mBawWXwo22"
      },
      "execution_count": 26,
      "outputs": []
    },
    {
      "cell_type": "code",
      "source": [
        "text.collect()"
      ],
      "metadata": {
        "id": "jBLl9Nnrw-la"
      },
      "execution_count": null,
      "outputs": []
    },
    {
      "cell_type": "code",
      "source": [
        "text.top(10)"
      ],
      "metadata": {
        "id": "B9Q1BssByE7s"
      },
      "execution_count": null,
      "outputs": []
    },
    {
      "cell_type": "code",
      "source": [
        "rdd2=text.map(lambda x: x +(\",Varun\"))\n",
        "rdd2.top(10)"
      ],
      "metadata": {
        "id": "L70NNA5wy8NC"
      },
      "execution_count": null,
      "outputs": []
    },
    {
      "cell_type": "code",
      "source": [
        "def foo(x):\n",
        "  return x.split(\",\")\n",
        "rdd3 = rdd2.map(foo)\n",
        "rdd3.top(10)"
      ],
      "metadata": {
        "id": "E1g49K5Y1OvM"
      },
      "execution_count": null,
      "outputs": []
    },
    {
      "cell_type": "code",
      "source": [
        ""
      ],
      "metadata": {
        "id": "bBsm9wsf1RqQ"
      },
      "execution_count": null,
      "outputs": []
    }
  ]
}